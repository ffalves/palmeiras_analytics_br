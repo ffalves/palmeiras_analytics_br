{
 "cells": [
  {
   "cell_type": "markdown",
   "metadata": {},
   "source": [
    "Data wrangling the Events's Json and generate events.csv file"
   ]
  },
  {
   "cell_type": "code",
   "execution_count": 74,
   "metadata": {},
   "outputs": [],
   "source": [
    "import os\n",
    "import pandas as pd\n",
    "import json"
   ]
  },
  {
   "cell_type": "code",
   "execution_count": 75,
   "metadata": {},
   "outputs": [],
   "source": [
    "# Folder\n",
    "folder_path = 'D:\\\\Python\\\\2024\\\\Scraping\\\\scraping_events_tcc\\\\json_renamed'"
   ]
  },
  {
   "cell_type": "code",
   "execution_count": 76,
   "metadata": {},
   "outputs": [],
   "source": [
    "def ExtractorEventsInfo(event_data):\n",
    "    template = {\n",
    "        'event_id': 'id',\n",
    "        'slug': 'slug',\n",
    "        'custom_id': 'customId',\n",
    "        'periods': 'defaultPeriodCount',\n",
    "        'period_length': 'defaultPeriodLength',\n",
    "        'overtime_length': 'defaultOvertimeLength',\n",
    "        'injury_p1': 'time.injuryTime1',\n",
    "        'injury_p2': 'time.injuryTime2',\n",
    "        'tournament_name': 'tournament.name',\n",
    "        'tournament_slug': 'tournament.slug',\n",
    "        'tournament_country': 'tournament.category.country.name',\n",
    "        'tournament_country_c': 'tournament.category.country.alpha2',\n",
    "        'stats_players': 'tournament.uniqueTournament.hasEventPlayerStatistics',\n",
    "        'season_year': 'season.year',\n",
    "        'round': 'roundInfo.round',\n",
    "        'match_city': 'venue.city.name',\n",
    "        'match_stadium': 'venue.stadium.name',\n",
    "        'match_stadium_capacity': 'venue.stadium.capacity',\n",
    "        'match_country': 'venue.country.name',\n",
    "        'match_country_c': 'venue.country.alpha2',\n",
    "        'hometeam': 'homeTeam.slug',\n",
    "        'ht_namecode': 'homeTeam.nameCode',\n",
    "        'ht_manager': 'homeTeam.manager.slug',\n",
    "        'ht_manager_id': 'homeTeam.manager.id',\n",
    "        'ht_manager_country': 'homeTeam.manager.country.name',\n",
    "        'ht_manager_country_c': 'homeTeam.manager.country.alpha2',\n",
    "        'ht_city': 'homeTeam.venue.city.name',\n",
    "        'ht_stadium': 'homeTeam.venue.stadium.name',\n",
    "        'ht_stadium_capacity': 'homeTeam.venue.stadium.capacity',\n",
    "        'ht_country': 'homeTeam.venue.country.name',\n",
    "        'ht_country_c': 'homeTeam.venue.country.alpha2',\n",
    "        'hometeam_id': 'homeTeam.id',\n",
    "        'homescore_p1': 'homeScore.period1',\n",
    "        'homescore_p2': 'homeScore.period2',\n",
    "        'homescore_final': 'homeScore.current',\n",
    "        'awayteam': 'awayTeam.slug',\n",
    "        'at_namecode': 'awayTeam.nameCode',\n",
    "        'at_city': 'awayTeam.venue.city.name',\n",
    "        'at_stadium': 'awayTeam.venue.stadium.name',\n",
    "        'at_stadium_capacity': 'awayTeam.venue.stadium.capacity',\n",
    "        'at_country': 'awayTeam.venue.country.name',\n",
    "        'at_country_c': 'awayTeam.venue.country.alpha2',\n",
    "        'awayteam_id': 'awayTeam.id',\n",
    "        'awayscore_p1': 'awayScore.period1',\n",
    "        'awayscore_p2': 'awayScore.period2',\n",
    "        'awayscore_final': 'awayScore.current'\n",
    "    }\n",
    "\n",
    "    result = {}\n",
    "    for key, path in template.items():\n",
    "        keys = path.split('.')\n",
    "        value = event_data\n",
    "        for k in keys:\n",
    "            if isinstance(value, dict) and k in value:\n",
    "                value = value[k]\n",
    "            else:\n",
    "                value = None\n",
    "                break\n",
    "        result[key] = value\n",
    "\n",
    "    return result"
   ]
  },
  {
   "cell_type": "code",
   "execution_count": 77,
   "metadata": {},
   "outputs": [],
   "source": [
    "events_df = []\n",
    "\n",
    "for filename in os.listdir(folder_path):\n",
    "    try:\n",
    "        if filename.endswith('.json') and 'event' in filename:\n",
    "            json_file_path = os.path.join(folder_path, filename)\n",
    "\n",
    "            with open(json_file_path, 'r', encoding='utf-8') as file:\n",
    "                ojson = json.load(file)\n",
    "\n",
    "            if 'event' in ojson:\n",
    "                ojson_df = ExtractorEventsInfo(ojson['event'])\n",
    "                df = pd.DataFrame([ojson_df])\n",
    "\n",
    "                date, code, _ = filename.split('_')[1:4]\n",
    "                df.insert(0, 'date', date)\n",
    "                df.insert(1, 'code', code)\n",
    "\n",
    "                events_df.append(df)\n",
    "\n",
    "    except Exception as e:\n",
    "        print(f\"Erro ao processar o arquivo {filename}: {str(e)}\")\n",
    "        # Imprimir informações adicionais sobre a exceção\n",
    "        print(f\"Tipo de exceção: {type(e)}\")\n",
    "        print(f\"Informações detalhadas sobre a exceção: {e}\")\n",
    "\n",
    "# Concatena os DataFrames em um único DataFrame\n",
    "result_df = pd.concat(events_df, ignore_index=True)\n",
    "\n",
    "result_df.to_csv('events.csv', index=False)\n"
   ]
  }
 ],
 "metadata": {
  "kernelspec": {
   "display_name": "Python 3",
   "language": "python",
   "name": "python3"
  },
  "language_info": {
   "codemirror_mode": {
    "name": "ipython",
    "version": 3
   },
   "file_extension": ".py",
   "mimetype": "text/x-python",
   "name": "python",
   "nbconvert_exporter": "python",
   "pygments_lexer": "ipython3",
   "version": "3.11.5"
  }
 },
 "nbformat": 4,
 "nbformat_minor": 2
}
