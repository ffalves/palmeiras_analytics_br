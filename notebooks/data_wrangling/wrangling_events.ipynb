{
 "cells": [
  {
   "cell_type": "markdown",
   "metadata": {},
   "source": [
    "Data wrangling the Events json and generate events.csv file"
   ]
  },
  {
   "cell_type": "code",
   "execution_count": 1,
   "metadata": {},
   "outputs": [],
   "source": [
    "from pathlib import Path\n",
    "import os\n",
    "import pandas as pd\n",
    "import json"
   ]
  },
  {
   "cell_type": "code",
   "execution_count": 2,
   "metadata": {},
   "outputs": [],
   "source": [
    "# Define paths for JSON input and CSV output\n",
    "json_folder_path = Path.cwd().parents[1] / 'json_renamed'\n",
    "csv_folder_path = Path.cwd().parents[1] / 'csv_datasets'\n",
    "\n",
    "# Ensure the CSV directory exists\n",
    "csv_folder_path.mkdir(parents=True, exist_ok=True)"
   ]
  },
  {
   "cell_type": "code",
   "execution_count": null,
   "metadata": {},
   "outputs": [],
   "source": [
    "def flatten_json(data, parent_key='', sep='_'):\n",
    "    \"\"\"\n",
    "    Recursively flattens a nested JSON dictionary or list.\n",
    "    \"\"\"\n",
    "    items = {}\n",
    "    \n",
    "    # If the data is a dictionary, iterate through its items\n",
    "    if isinstance(data, dict):\n",
    "        for k, v in data.items():\n",
    "            new_key = f\"{parent_key}{sep}{k}\" if parent_key else k\n",
    "            if isinstance(v, (dict, list)):\n",
    "                items.update(flatten_json(v, new_key, sep=sep))\n",
    "            else:\n",
    "                items[new_key] = v\n",
    "                \n",
    "    # If the data is a list, iterate through its elements\n",
    "    elif isinstance(data, list):\n",
    "        for i, v in enumerate(data):\n",
    "            new_key = f\"{parent_key}{sep}{i}\" if parent_key else str(i)\n",
    "            if isinstance(v, (dict, list)):\n",
    "                items.update(flatten_json(v, new_key, sep=sep))\n",
    "            else:\n",
    "                items[new_key] = v\n",
    "\n",
    "    return items\n",
    "\n",
    "def extract_event_info(event_data):\n",
    "    \"\"\"\n",
    "    Extracts and flattens all event data into a standardized format.\n",
    "    \"\"\"\n",
    "    # Flatten the entire event JSON structure\n",
    "    flattened_event = flatten_json(event_data)\n",
    "\n",
    "    # Include additional key information if necessary\n",
    "    additional_info = {\n",
    "        'event_id': event_data.get('id'),\n",
    "        'event_slug': event_data.get('slug')\n",
    "    }\n",
    "\n",
    "    # Combine flattened data with additional information\n",
    "    flattened_event.update(additional_info)\n",
    "    return flattened_event\n",
    "\n",
    "# List to store all DataFrames\n",
    "events_df = []\n",
    "\n",
    "# Iterate over each file in the JSON directory\n",
    "for filename in os.listdir(json_folder_path):\n",
    "    try:\n",
    "        if filename.endswith('.json') and 'event' in filename:  # Process only JSON files containing 'event'\n",
    "            json_file_path = os.path.join(json_folder_path, filename)\n",
    "\n",
    "            with open(json_file_path, 'r', encoding='utf-8') as file:\n",
    "                ojson = json.load(file)\n",
    "\n",
    "            if 'event' in ojson:  # Check for the 'event' key\n",
    "                ojson_df = extract_event_info(ojson['event'])\n",
    "                df = pd.DataFrame([ojson_df])\n",
    "\n",
    "                # Extract 'date' and 'code' from the filename\n",
    "                date, code = filename.split('_')[1:3]\n",
    "                df.insert(0, 'date', date)\n",
    "                df.insert(1, 'code', code)\n",
    "\n",
    "                events_df.append(df)\n",
    "\n",
    "    except Exception as e:\n",
    "        print(f\"Error processing file {filename}: {str(e)}\")\n"
   ]
  },
  {
   "cell_type": "code",
   "execution_count": 1,
   "metadata": {},
   "outputs": [
    {
     "name": "stdout",
     "output_type": "stream",
     "text": [
      "Consolidated data saved to /Users/fernandaalves/Documents/code_studies/palmeiras_analytics_br/csv_datasets/events.csv\n"
     ]
    }
   ],
   "source": [
    "# Combine all DataFrames into one\n",
    "result_df = pd.concat(events_df, ignore_index=True)\n",
    "\n",
    "# Save the consolidated DataFrame to a CSV file\n",
    "result_df.to_csv(csv_folder_path / 'events.csv', index=False)\n",
    "\n",
    "print(f\"Consolidated data saved to {csv_folder_path / 'events.csv'}\")\n"
   ]
  },
  {
   "cell_type": "markdown",
   "metadata": {},
   "source": [
    "Key Adjustments\n",
    "\n",
    "    flatten_json: The flattening function is used recursively to navigate through all levels of nesting and extract all possible information.\n",
    "    extract_event_info: Now extracts complete data from the JSON, regardless of the depth of nesting.\n",
    "    JSON Files Loop: The code iterates over all JSON files in the specified folder and consolidates the data into a single CSV.\n",
    "    Addition of 'date' and 'code' Columns: Extracts \"date\" and \"code\" from the filename and adds them as columns to the final DataFrame."
   ]
  }
 ],
 "metadata": {
  "kernelspec": {
   "display_name": "Python 3",
   "language": "python",
   "name": "python3"
  },
  "language_info": {
   "codemirror_mode": {
    "name": "ipython",
    "version": 3
   },
   "file_extension": ".py",
   "mimetype": "text/x-python",
   "name": "python",
   "nbconvert_exporter": "python",
   "pygments_lexer": "ipython3",
   "version": "3.12.5"
  }
 },
 "nbformat": 4,
 "nbformat_minor": 2
}
