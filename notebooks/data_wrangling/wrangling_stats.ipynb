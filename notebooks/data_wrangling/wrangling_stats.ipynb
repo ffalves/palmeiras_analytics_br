{
 "cells": [
  {
   "cell_type": "markdown",
   "metadata": {},
   "source": [
    "Data wrangling the Stats's Json and generate stats.csv file"
   ]
  },
  {
   "cell_type": "code",
   "execution_count": 1,
   "metadata": {},
   "outputs": [],
   "source": [
    "import os\n",
    "import pandas as pd\n",
    "import json"
   ]
  },
  {
   "cell_type": "code",
   "execution_count": 2,
   "metadata": {},
   "outputs": [],
   "source": [
    "# Folder\n",
    "folder_path = 'D:\\\\Python\\\\2024\\\\Scraping\\\\scraping_events_tcc\\\\json_renamed'"
   ]
  },
  {
   "cell_type": "code",
   "execution_count": 3,
   "metadata": {},
   "outputs": [],
   "source": [
    "def extract_stats(period_data):\n",
    "    periods = []\n",
    "    group_names = []\n",
    "    stat_names = []\n",
    "    home_values = []\n",
    "    away_values = []\n",
    "    stat_types = []\n",
    "\n",
    "    # Iteration over periods\n",
    "    for period in period_data:\n",
    "        # Iteration over groups\n",
    "        for group_data in period['groups']:\n",
    "            group_name = group_data['groupName']\n",
    "\n",
    "            # Iteration over stats\n",
    "            for stat_item in group_data['statisticsItems']:\n",
    "                stat_name = stat_item['name']\n",
    "                stat_type = stat_item['statisticsType']\n",
    "                home_value = stat_item['homeValue']\n",
    "                away_value = stat_item['awayValue']\n",
    "\n",
    "                # Appending values to the lists\n",
    "                periods.append(period['period'])\n",
    "                group_names.append(group_name)\n",
    "                stat_names.append(stat_name)\n",
    "                stat_types.append(stat_type)\n",
    "                home_values.append(home_value)\n",
    "                away_values.append(away_value)\n",
    "\n",
    "    return periods, group_names, stat_names, stat_types, home_values, away_values\n",
    "\n",
    "def process_stats_json_folder(folder_path):\n",
    "    stats_df = []\n",
    "\n",
    "    # Iteration over files in the folder\n",
    "    for filename in os.listdir(folder_path):\n",
    "        try:\n",
    "            if filename.endswith('.json') and 'stats' in filename:\n",
    "                json_file_path = os.path.join(folder_path, filename)\n",
    "\n",
    "                with open(json_file_path, 'r', encoding='utf-8') as file:\n",
    "                    data = json.load(file)\n",
    "\n",
    "                if 'statistics' in data:\n",
    "                    periods, group_names, stat_names, stat_types, home_values, away_values = extract_stats(data['statistics'])\n",
    "                    df = pd.DataFrame({\n",
    "                        'period': periods,\n",
    "                        'group_name': group_names,\n",
    "                        'stat_name': stat_names,\n",
    "                        'stat_types': stat_types,\n",
    "                        'home_value': home_values,\n",
    "                        'away_value': away_values\n",
    "                    })\n",
    "\n",
    "                    date, code, _ = filename.split('_')[1:4]\n",
    "                    df.insert(0, 'date', date)\n",
    "                    df.insert(1, 'code', code)\n",
    "\n",
    "                    stats_df.append(df)\n",
    "\n",
    "        except Exception as e:\n",
    "            print(f'Error processing file {filename}: {str(e)}')\n",
    "            print(f'Exception type: {type(e)}')\n",
    "            print(f'Detailed exception information: {e}')\n",
    "\n",
    "    result_df = pd.concat(stats_df, ignore_index=True)\n",
    "    return result_df\n",
    "\n",
    "\n",
    "result_df = process_stats_json_folder(folder_path)\n",
    "result_df.to_csv('stats.csv', index=False)\n"
   ]
  }
 ],
 "metadata": {
  "kernelspec": {
   "display_name": "Python 3",
   "language": "python",
   "name": "python3"
  },
  "language_info": {
   "codemirror_mode": {
    "name": "ipython",
    "version": 3
   },
   "file_extension": ".py",
   "mimetype": "text/x-python",
   "name": "python",
   "nbconvert_exporter": "python",
   "pygments_lexer": "ipython3",
   "version": "3.11.5"
  }
 },
 "nbformat": 4,
 "nbformat_minor": 2
}
