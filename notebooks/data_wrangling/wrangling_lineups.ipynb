{
 "cells": [
  {
   "cell_type": "code",
   "execution_count": 3,
   "metadata": {},
   "outputs": [],
   "source": [
    "from pathlib import Path\n",
    "import os\n",
    "import pandas as pd\n",
    "import json"
   ]
  },
  {
   "cell_type": "code",
   "execution_count": 4,
   "metadata": {},
   "outputs": [],
   "source": [
    "# Define paths for JSON input and CSV output\n",
    "json_folder_path = Path.cwd().parents[1] / 'json_renamed'\n",
    "csv_folder_path = Path.cwd().parents[1] / 'csv_datasets'\n",
    "\n",
    "# Ensure the CSV directory exists\n",
    "csv_folder_path.mkdir(parents=True, exist_ok=True)"
   ]
  },
  {
   "cell_type": "code",
   "execution_count": 7,
   "metadata": {},
   "outputs": [
    {
     "name": "stdout",
     "output_type": "stream",
     "text": [
      "Consolidated data saved to /Users/fernandaalves/Documents/code_studies/palmeiras_analytics_br/csv_datasets/lineups.csv\n"
     ]
    }
   ],
   "source": [
    "def flatten_json(data, parent_key='', sep='_'):\n",
    "    \"\"\"\n",
    "    Recursively flattens a nested JSON dictionary.\n",
    "    \"\"\"\n",
    "    items = {}\n",
    "    for k, v in data.items():\n",
    "        new_key = f\"{parent_key}{sep}{k}\" if parent_key else k\n",
    "        if isinstance(v, dict):\n",
    "            items.update(flatten_json(v, new_key, sep=sep))\n",
    "        elif isinstance(v, list):\n",
    "            for i, item in enumerate(v):\n",
    "                if isinstance(item, dict):\n",
    "                    items.update(flatten_json(item, f\"{new_key}{i}\", sep=sep))\n",
    "                else:\n",
    "                    items[f\"{new_key}{i}\"] = item\n",
    "        else:\n",
    "            items[new_key] = v\n",
    "    return items\n",
    "\n",
    "def process_json_file(json_path):\n",
    "    \"\"\"\n",
    "    Processes a specific JSON file, extracts and flattens all data,\n",
    "    and adds the columns 'date' and 'code'.\n",
    "    \"\"\"\n",
    "    # Extract 'date' and 'code' from the filename\n",
    "    filename = json_path.stem\n",
    "    date, code = filename.split('_')[1], filename.split('_')[2]\n",
    "\n",
    "    # Load the JSON file\n",
    "    with open(json_path, 'r', encoding='utf-8') as f:\n",
    "        data = json.load(f)\n",
    "\n",
    "    # Initialize the list to store flattened data\n",
    "    flattened_data = []\n",
    "\n",
    "    # Function to process and flatten all players of a team\n",
    "    def process_team(team, team_data):\n",
    "        team_info = flatten_json(team_data, parent_key=f\"{team}_info\")  # Flatten team information\n",
    "        players = team_data.get('players', [])\n",
    "        for player in players:\n",
    "            flat_player = flatten_json(player)\n",
    "            flat_player.update(team_info)  # Add team information to each player\n",
    "            flat_player['team'] = team  # Add team information (home/away)\n",
    "            flat_player['date'] = date  # Add the date\n",
    "            flat_player['code'] = code  # Add the code\n",
    "            flattened_data.append(flat_player)\n",
    "\n",
    "    # Process each team ('home' and 'away')\n",
    "    for team in ['home', 'away']:\n",
    "        if team in data:\n",
    "            process_team(team, data[team])\n",
    "\n",
    "    return pd.DataFrame(flattened_data)"
   ]
  },
  {
   "cell_type": "code",
   "execution_count": null,
   "metadata": {},
   "outputs": [],
   "source": [
    "# List to store all DataFrames\n",
    "all_dataframes = []\n",
    "\n",
    "# Iterate over all JSON files in the folder\n",
    "for json_file in json_folder_path.glob('j_*.json'):\n",
    "    df = process_json_file(json_file)  # Process each JSON file\n",
    "    all_dataframes.append(df)\n",
    "\n",
    "# Concatenate all DataFrames into a single DataFrame\n",
    "final_df = pd.concat(all_dataframes, ignore_index=True)\n",
    "\n",
    "# Save the concatenated DataFrame to a CSV file\n",
    "final_df.to_csv(csv_folder_path / 'lineups.csv', index=False)\n",
    "\n",
    "print(f\"Consolidated data saved to {csv_folder_path / 'lineups.csv'}\")"
   ]
  },
  {
   "cell_type": "markdown",
   "metadata": {},
   "source": [
    "Key Improvements\n",
    "\n",
    "    Enhanced Flattening with flatten_json: The flatten_json function is used recursively to ensure all nested data structures are flattened and included in the final output, regardless of their depth or complexity.\n",
    "\n",
    "    Dynamic Data Handling: The function now dynamically handles different structures within the JSON, making it more robust to variations in data formatting.\n",
    "\n",
    "    Full Data Coverage: The revised approach ensures that every field, including deeply nested ones, is captured in the output, reducing the likelihood of missing data."
   ]
  }
 ],
 "metadata": {
  "kernelspec": {
   "display_name": "Python 3",
   "language": "python",
   "name": "python3"
  },
  "language_info": {
   "codemirror_mode": {
    "name": "ipython",
    "version": 3
   },
   "file_extension": ".py",
   "mimetype": "text/x-python",
   "name": "python",
   "nbconvert_exporter": "python",
   "pygments_lexer": "ipython3",
   "version": "3.12.5"
  }
 },
 "nbformat": 4,
 "nbformat_minor": 2
}
